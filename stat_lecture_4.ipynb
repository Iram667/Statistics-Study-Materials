{
  "nbformat": 4,
  "nbformat_minor": 0,
  "metadata": {
    "colab": {
      "provenance": [],
      "toc_visible": true
    },
    "kernelspec": {
      "name": "python3",
      "display_name": "Python 3"
    },
    "language_info": {
      "name": "python"
    }
  },
  "cells": [
    {
      "cell_type": "markdown",
      "source": [
        "# **Outlier**"
      ],
      "metadata": {
        "id": "MegSu8kaGfJR"
      }
    },
    {
      "cell_type": "code",
      "execution_count": null,
      "metadata": {
        "id": "eMCjLiMYGYLT"
      },
      "outputs": [],
      "source": [
        "import numpy as np\n",
        "import matplotlib.pyplot as pyplot\n",
        "%matplotlib inline"
      ]
    },
    {
      "cell_type": "code",
      "source": [
        "#define our data set\n",
        "dataset=[11,10,12,14,12,14,12,15,14,13,15,102,12,14,17,19,107,10,13,12,14,12,108,12,11,14,13,15,10,15,10,12,14,13,15,10]\n"
      ],
      "metadata": {
        "id": "lin9JDXdG-Bk"
      },
      "execution_count": null,
      "outputs": []
    },
    {
      "cell_type": "code",
      "source": [
        "import numpy as np\n",
        "import matplotlib.pyplot as pyplot\n",
        "#%matplotlib inline\n",
        "dataset=[11,10,12,14,12,14,12,15,14,13,15,102,12,14,17,19,107,10,13,12,14,12,108,12,11,14,13,15,10,15,10,12,14,13,15,10]\n",
        "outliers=[]\n",
        "def detect_outliers(dataset):\n",
        "  threshold=3   #threshold mean third standard deviation\n",
        "  mean=np.mean(dataset)\n",
        "  std=np.std(dataset)\n",
        "  for i in dataset:\n",
        "    z_score=(i-mean)/std\n",
        "    if np.abs(z_score)>threshold:\n",
        "      outliers.append(i)\n",
        "  return outliers\n",
        "result=detect_outliers(dataset)\n",
        "print(result)\n",
        "\n",
        "\n",
        "\n"
      ],
      "metadata": {
        "colab": {
          "base_uri": "https://localhost:8080/"
        },
        "id": "wk3R9-hcKDJG",
        "outputId": "dfd7b4a4-6e06-4b80-bcc9-835d54d00ac8"
      },
      "execution_count": null,
      "outputs": [
        {
          "output_type": "stream",
          "name": "stdout",
          "text": [
            "[102, 107, 108]\n"
          ]
        }
      ]
    },
    {
      "cell_type": "markdown",
      "source": [
        "**IQR**\n",
        "1. sort the data\n",
        "2. calculate Q1 and Q3\n",
        "3. IQR=(Q3-Q1)\n",
        "4. find the lower fence=q1-1.5(IQR)\n",
        "5. find the higher fence=q3+1.5(IQR)\n"
      ],
      "metadata": {
        "id": "xnQLxd1b5h7U"
      }
    },
    {
      "cell_type": "code",
      "source": [
        "dataset=[11,10,12,14,12,14,12,15,14,13,15,102,12,14,17,19,107,10,13,12,14,12,108,12,11,14,13,15,10,15,10,12,14,13,15,10]\n",
        "dataset=sorted(dataset)\n",
        "dataset\n"
      ],
      "metadata": {
        "colab": {
          "base_uri": "https://localhost:8080/"
        },
        "id": "hjH9lwx5RMTt",
        "outputId": "86aef8e0-84f8-4370-ba14-487c8d815763"
      },
      "execution_count": null,
      "outputs": [
        {
          "output_type": "execute_result",
          "data": {
            "text/plain": [
              "[10,\n",
              " 10,\n",
              " 10,\n",
              " 10,\n",
              " 10,\n",
              " 11,\n",
              " 11,\n",
              " 12,\n",
              " 12,\n",
              " 12,\n",
              " 12,\n",
              " 12,\n",
              " 12,\n",
              " 12,\n",
              " 12,\n",
              " 13,\n",
              " 13,\n",
              " 13,\n",
              " 13,\n",
              " 14,\n",
              " 14,\n",
              " 14,\n",
              " 14,\n",
              " 14,\n",
              " 14,\n",
              " 14,\n",
              " 15,\n",
              " 15,\n",
              " 15,\n",
              " 15,\n",
              " 15,\n",
              " 17,\n",
              " 19,\n",
              " 102,\n",
              " 107,\n",
              " 108]"
            ]
          },
          "metadata": {},
          "execution_count": 1
        }
      ]
    },
    {
      "cell_type": "code",
      "source": [
        "# dataset=[11,10,12,14,12,14,12,15,14,13,15,102,12,14,17,19,107,10,13,12,14,12,108,12,11,14,13,15,10,15,10,12,14,13,15,10]\n",
        "# dataset=sorted(dataset)\n",
        "# dataset\n",
        "import numpy as np\n",
        "q1,q3=np.percentile(dataset,[25,75])\n",
        "print(q1,q3)\n",
        "\n"
      ],
      "metadata": {
        "colab": {
          "base_uri": "https://localhost:8080/"
        },
        "id": "SMo348PGVuHG",
        "outputId": "4bbd2a35-bfa5-4c6e-8f9f-ebd547e54576"
      },
      "execution_count": null,
      "outputs": [
        {
          "output_type": "stream",
          "name": "stdout",
          "text": [
            "12.0 15.0\n"
          ]
        }
      ]
    },
    {
      "cell_type": "code",
      "source": [
        "IQR=q3-q1\n",
        "print(IQR)"
      ],
      "metadata": {
        "colab": {
          "base_uri": "https://localhost:8080/"
        },
        "id": "Voath8JR7MUT",
        "outputId": "4410fd97-2dcb-4e27-f845-a221d37332df"
      },
      "execution_count": null,
      "outputs": [
        {
          "output_type": "stream",
          "name": "stdout",
          "text": [
            "3.0\n"
          ]
        }
      ]
    },
    {
      "cell_type": "code",
      "source": [
        "lower_fence= q1-(1.5*IQR)\n",
        "higher_fence=q3+(1.5*IQR)\n",
        "print(lower_fence, higher_fence)"
      ],
      "metadata": {
        "colab": {
          "base_uri": "https://localhost:8080/"
        },
        "id": "sfl9okpP7L_5",
        "outputId": "61e6a21b-37bf-4f31-9eb6-cb7ce588fa73"
      },
      "execution_count": null,
      "outputs": [
        {
          "output_type": "stream",
          "name": "stdout",
          "text": [
            "7.5 19.5\n"
          ]
        }
      ]
    },
    {
      "cell_type": "markdown",
      "source": [
        "question:\n",
        "suppose that IQ in certain population is normally distributed with a mean of mean=100 and standard deviation=15.A researcher wants to know if a new drug effect IQ levels,so he result 20 patients to try it and record there IQ level,\n",
        "# The following code shows how to perform a one sample **ztest in python** to determind if the new drug causes a significant difference in IQ level"
      ],
      "metadata": {
        "id": "kH8imQrKSmMo"
      }
    },
    {
      "cell_type": "code",
      "source": [
        "#from statsmodels.stats.weightstats import ztesst as ztesst\n",
        "from statsmodels.stats.weightstats import ztest\n",
        "data=[88,92,94,94,96,97,97,97,99,99,105,109,109,109,160,112,112,113,114,115]\n",
        "ztest(data,value=100)"
      ],
      "metadata": {
        "colab": {
          "base_uri": "https://localhost:8080/"
        },
        "id": "TglJsHhYR_JA",
        "outputId": "e70ef9eb-a9c6-4a3f-854b-9c64df7391cd"
      },
      "execution_count": null,
      "outputs": [
        {
          "output_type": "execute_result",
          "data": {
            "text/plain": [
              "(1.6209266564608733, 0.10503336920593094)"
            ]
          },
          "metadata": {},
          "execution_count": 3
        }
      ]
    }
  ]
}